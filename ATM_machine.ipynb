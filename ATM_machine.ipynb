{
 "cells": [
  {
   "cell_type": "markdown",
   "id": "4I_mclntEFom",
   "metadata": {
    "id": "4I_mclntEFom"
   },
   "source": [
    "This notebook implement the ATM machine.\n"
   ]
  },
  {
   "cell_type": "code",
   "execution_count": 1,
   "id": "263c71f2-a877-4f4a-95b0-b3b6308d30aa",
   "metadata": {
    "id": "263c71f2-a877-4f4a-95b0-b3b6308d30aa"
   },
   "outputs": [],
   "source": [
    "class Card:\n",
    "    def __init__(self, cardID, pin, accounts=None):\n",
    "        self.cardID = cardID\n",
    "        self.pin = pin\n",
    "        \n",
    "        if accounts is not None:\n",
    "            accountIDs = [account.accountID for account in accounts]\n",
    "            if len(accountIDs) != len(set(accountIDs)):\n",
    "                raise ValueError(\"Account numbers should not be overlapped.\")\n",
    "\n",
    "        self.accounts = accounts or []\n",
    "\n",
    "    def add_account(self, account):\n",
    "        assert isinstance(account, Account), \"Implementation error.\"\n",
    "\n",
    "        accountIDs = [account.accountID for account in self.accounts]\n",
    "        if account.accountID in accountIDs:\n",
    "            print(\"The account number is overlapped. Use other account number.\")\n",
    "        else:\n",
    "            self.accounts.append(account)\n",
    "    \n",
    "    def select_account(self, idx):\n",
    "        return self.accounts[idx]\n",
    "\n",
    "\n",
    "class Account:\n",
    "    def __init__(self, accountID, balance=0):\n",
    "        self.accountID = accountID\n",
    "        self.balance = balance\n",
    "    \n",
    "    def see_balance(self):\n",
    "        return self.balance\n",
    "    \n",
    "    def deposit(self, money):\n",
    "        self.balance += money\n",
    "    \n",
    "    def withdraw(self, money):\n",
    "        self.balance -= money\n",
    "\n",
    "\n",
    "class ATM:\n",
    "    def __init__(self, language=0):\n",
    "        \"\"\"\n",
    "        language 0 : English\n",
    "        language 1 : Korean\n",
    "        \"\"\"\n",
    "        if language == 0:\n",
    "            print(\"English language is chosen.\")\n",
    "        elif language == 1:\n",
    "            print(\"한국어를 선택하셨습니다.\")\n",
    "        else:\n",
    "            raise ValueError(\"English and Korean are the only supported languages. 영어와 한국어만 지원됩니다.\")\n",
    "\n",
    "        self.language = language\n",
    "        self.black_list = []\n",
    "        \n",
    "        self.inserted_card = None\n",
    "        self.viewing_account = None\n",
    "        self.allow_access = False\n",
    "        self.err_cnt = 0\n",
    "\n",
    "    def insert_card(self, card):\n",
    "        is_valid = True\n",
    "        if self.inserted_card is None:\n",
    "            if card.cardID not in self.black_list:\n",
    "                self.inserted_card = card\n",
    "                if self.language:\n",
    "                    print(\"기기에 카드가 삽입되었습니다.\")\n",
    "                else:\n",
    "                    print(\"A card is inserted to the machine\")\n",
    "            else:\n",
    "                if self.language:\n",
    "                    print(\"사용이 불가능한 카드입니다. 다른 카드를 사용해주세요.\")\n",
    "                else:\n",
    "                    print(\"This card is no more useable. Please use other cards.\")\n",
    "                self.eject_card()\n",
    "                is_valid = False\n",
    "\n",
    "        else:\n",
    "            if self.language:\n",
    "                print(\"기기에 이미 카드가 존재합니다. 새로운 카드를 삽입하시려면, 해당 카드를 먼저 제거해주세요.\")\n",
    "            else:\n",
    "                print(\"Card is already inserted. You should remove the inserted card first.\")\n",
    "\n",
    "        return is_valid\n",
    "\n",
    "    def eject_card(self):\n",
    "        self.inserted_card = None\n",
    "        self.viewing_account = None\n",
    "        self.allow_access = False\n",
    "        self.err_cnt = 0\n",
    "        \n",
    "        if self.language:\n",
    "            print(\"기기로부터 카드를 반출합니다.\")\n",
    "        else:\n",
    "            print(\"A card is ejected from the machine.\")\n",
    "\n",
    "    def check_pin(self, pin):\n",
    "        assert self.inserted_card is not None, \"Implementation error.\"\n",
    "\n",
    "        if pin == self.inserted_card.pin:\n",
    "            if self.language:\n",
    "                print(\"올바른 비밀번호를 입력했습니다. 이제 카드내 계좌에 접근 가능합니다.\")\n",
    "            else:\n",
    "                print(\"You have entered the correct password. You can now access your account on the card.\")\n",
    "            \n",
    "            is_done = True\n",
    "            self.allow_access = True\n",
    "        else:\n",
    "            is_done = False\n",
    "            self.err_cnt += 1\n",
    "\n",
    "            if self.language:\n",
    "                print(f\"비밀번호 오류입니다. 5회 오류 시 카드 사용이 제한됩니다. 현재 : {self.err_cnt}회.\")\n",
    "            else:\n",
    "                print(f\"Wrong password. Card is no more useable when having 5th errors. Current : {self.err_cnt}th error(s).\")\n",
    "            \n",
    "            if self.err_cnt == 5:\n",
    "                self.black_list.append(self.inserted_card.cardID)\n",
    "                if self.language:\n",
    "                    print(\"오류 횟수가 5회에 도달하여 기기에서 카드가 반출됩니다. 해당 카드는 더이상 사용하실 수 없습니다.\")\n",
    "                else:\n",
    "                    print(\"The card is ejected from the machine as the number of errors reaches 5. This card can no longer be used.\")\n",
    "                self.eject_card()\n",
    "                is_done = True\n",
    "\n",
    "        return is_done\n",
    "\n",
    "    def select_account(self, index):\n",
    "        assert self.inserted_card, \"Implementation error.\"\n",
    "        \n",
    "        if not self.allow_access:\n",
    "            if self.language:\n",
    "                print(\"계좌를 확인하기 전에 PIN을 먼저 입력해주세요.\")\n",
    "            else:\n",
    "                print(\"Please enter your PIN first before verifying your account.\")\n",
    "        else:\n",
    "            num_accounts = len(self.inserted_card.accounts)\n",
    "            if index > num_accounts or index < 1:\n",
    "                if self.language:\n",
    "                    print(\"총 계좌의 개수보다 크거나 1보다 작은 숫자를 입력하셨습니다. 올바른 숫자를 입력해주세요.\")\n",
    "                else:\n",
    "                    print(\"You entered a number greater than the total number of accounts or less than 1. Please enter the correct number.\")\n",
    "\n",
    "            else:\n",
    "                if self.viewing_account is None:\n",
    "                    if self.language:\n",
    "                        print(f\"{index}번째 계좌가 선택되었습니다.\")\n",
    "                    else:\n",
    "                        print(f\"Selected the {index}th account.\")\n",
    "                else:\n",
    "                    if index == self.index:\n",
    "                        if self.language:\n",
    "                            print(\"이미 해당 계좌를 조회 중입니다.\")\n",
    "                        else:\n",
    "                            print(\"The account is already being viewed.\")\n",
    "                    else:\n",
    "                        if self.language:\n",
    "                            print(f\"{index}번째 계좌로 전환되었습니다.\")\n",
    "                        else:\n",
    "                            print(f\"Switched to the {index}th account.\")\n",
    "\n",
    "                self.viewing_account = self.inserted_card.select_account(index-1)\n",
    "                self.index = index\n",
    "\n",
    "    def do_request(self, task, money=None):\n",
    "        \"\"\"\n",
    "        task 0 : see balance\n",
    "        task 1 : deposit\n",
    "        task 2 : withdraw\n",
    "        \"\"\"\n",
    "        assert self.inserted_card and self.allow_access and self.viewing_account, \"Implementation error.\"\n",
    "\n",
    "        if task == 0:\n",
    "            balance = self.viewing_account.see_balance()\n",
    "            if self.language:\n",
    "                print(f\"{self.index}번째 계좌에 {balance}원이 예치되어있습니다.\")\n",
    "            else:\n",
    "                print(f\"{balance} won is deposited in the {self.index}th account.\")\n",
    "        else:\n",
    "            assert money is not None, \"금액은 숫자로 입력해야 합니다.\"\n",
    "\n",
    "            if task == 1:            \n",
    "                self.viewing_account.deposit(money)\n",
    "                \n",
    "                upd_balance = self.viewing_account.see_balance()\n",
    "                if self.language:\n",
    "                    print(f\"{self.index}번째 계좌에 {money}원을 추가로 예치하였습니다.\")\n",
    "                    print(f\"{self.index}번째 계좌 잔액은 {upd_balance}원입니다.\")\n",
    "                else:\n",
    "                    print(f\"{money} won is added to the {self.index}th account.\")\n",
    "                    print(f\"The balance of the {self.index}th account is {upd_balance}.\")\n",
    "                \n",
    "            elif task == 2:\n",
    "                balance = self.viewing_account.see_balance()\n",
    "                if money > balance:\n",
    "                    if self.language:\n",
    "                        print(\"계좌내 금액보다 더 큰 금액을 인출할 수 없습니다.\")\n",
    "                    else:\n",
    "                        print(\"You cannot withdraw more than the amount in the account\")\n",
    "                else:\n",
    "                    self.viewing_account.withdraw(money)\n",
    "\n",
    "                    upd_balance = self.viewing_account.see_balance()\n",
    "                    if self.language:\n",
    "                        print(f\"{self.index}번째 계좌에서 {money}원을 인출하였습니다.\")\n",
    "                        print(f\"{self.index}번째 계좌 잔액은 {upd_balance}원입니다.\")\n",
    "                    else:\n",
    "                        print(f\"{money} won is withdrawed from the {self.index}th account.\")\n",
    "                        print(f\"The balance of the {self.index}th account is {upd_balance}.\")\n"
   ]
  },
  {
   "cell_type": "code",
   "execution_count": 2,
   "id": "268d8e67-3c2e-4d01-ae9b-93f1452c0e8c",
   "metadata": {
    "id": "268d8e67-3c2e-4d01-ae9b-93f1452c0e8c"
   },
   "outputs": [],
   "source": [
    "def create_atm():\n",
    "    language = input(\"Let's create a new atm \\n\" +\n",
    "                     \"Enter 0 or 1 to choose a language for instruction by atm: 0 for English, 1 for Korean \\n\")\n",
    "    language = int(language)\n",
    "    atm_machine = ATM(language)\n",
    "    return language, atm_machine\n",
    "\n",
    "def create_card():\n",
    "    card_input = input(\"Let's create a new card \\n\" +\n",
    "                       \"Enter two digits with ',' between: 1st for cardID and 2nd for pin. ex) 1, 2 \\n \")\n",
    "    cardID, pin = card_input.split(\",\")\n",
    "    cardID, pin = cardID.strip(\" \"), pin.strip(\" \")\n",
    "    card = Card(cardID, pin)\n",
    "    return card\n",
    "\n",
    "def create_account():\n",
    "    account_input = input(\"Let's create a new account \\n\" +\n",
    "                          \"Enter two digits with ',' between: 1st for accountID and 2nd for balance. ex) 3, 4 \\n \")\n",
    "    accountID, balance = account_input.split(\",\")\n",
    "    accountID, balance = accountID.strip(\" \"), int(balance)\n",
    "    account = Account(accountID, balance)\n",
    "    return account\n",
    "    \n",
    "def main(num_account):\n",
    "    language, atm_machine = create_atm()\n",
    "\n",
    "    while True:\n",
    "        print(\"-----------------------------------------------------------------------\\n\")\n",
    "        card = create_card()\n",
    "        print(\"-----------------------------------------------------------------------\\n\")\n",
    "\n",
    "        for _ in range(num_account):\n",
    "            account = create_account()\n",
    "            card.add_account(account)\n",
    "\n",
    "        alphabets = {\"Z\": \"Finish\", \"A\": \"Insert card\"}\n",
    "        while True:\n",
    "            print(\"-----------------------------------------------------------------------\\n\")\n",
    "            operation = input(\"Enter the capital alphabet to choose which operation to conduct \\n\" +\n",
    "                            f\"{alphabets} \\n\")\n",
    "            print(\"-----------------------------------------------------------------------\\n\")\n",
    "\n",
    "            if operation not in alphabets:\n",
    "                if language:\n",
    "                    print(\"잘못된 operation을 입력하였습니다. 대문자 알파벳을 입력해주세요.\")\n",
    "                else:\n",
    "                    print(\"Wrong input for the operation. Please enter the capital alphabet.\")\n",
    "\n",
    "            elif operation == \"A\":\n",
    "                is_valid = atm_machine.insert_card(card)\n",
    "                if not is_valid:\n",
    "                    break\n",
    "\n",
    "                del alphabets[\"A\"]\n",
    "                alphabets[\"B\"] = \"Eject card\"\n",
    "                alphabets[\"C\"] = \"Enter pin\"\n",
    "            \n",
    "            elif operation == \"B\":\n",
    "                atm_machine.eject_card()\n",
    "                break\n",
    "\n",
    "            elif operation == \"C\":\n",
    "                is_done = False\n",
    "                while not is_done:\n",
    "                    pin = input(\"Enter pin to access the accounts in card. \\n\" +\n",
    "                                \"Note that there are only 5 trials. \\n\" + \n",
    "                                \"After 5 trials, the card is automatically ejected and no longer useable. \\n\")\n",
    "                    is_done = atm_machine.check_pin(pin)\n",
    "                \n",
    "                if card.cardID in atm_machine.black_list:\n",
    "                    if language:\n",
    "                        print(\"해당 카드는 더이상 사용할 수 없기 때문에 새로운 카드를 만드는 과정으로 돌아갑니다.\")\n",
    "                    else:\n",
    "                        print(\"The card is no longer usable, so we return to the process of creating a new card.\")\n",
    "                    print(\"-----------------------------------------------------------------------\\n\")\n",
    "                    break\n",
    "                else:\n",
    "                    del alphabets[\"C\"]\n",
    "                    alphabets[\"D\"] = \"Select account\"\n",
    "\n",
    "            elif operation == \"D\":\n",
    "                num_account = len(card.accounts)\n",
    "                index = input(\"Enter the account index to query. \\n\" +\n",
    "                              f\"The account index should be among {list(range(1,num_account+1))}. \\n\")\n",
    "                index = int(index)\n",
    "                atm_machine.select_account(index)\n",
    "                alphabets[\"D\"] = \"Switch account\"\n",
    "                alphabets[\"E\"] = \"See balance\"\n",
    "                alphabets[\"F\"] = \"Deposit\"\n",
    "                alphabets[\"G\"] = \"Withdraw\"\n",
    "\n",
    "            elif operation == \"E\":\n",
    "                atm_machine.do_request(task=0)\n",
    "\n",
    "            elif operation in [\"F\", \"G\"]:\n",
    "                money = input(\"Enter the amount of money to deposit or withdraw \\n\")\n",
    "                money = int(money)\n",
    "                if operation == \"F\":\n",
    "                    atm_machine.do_request(task=1, money=money)\n",
    "                else:\n",
    "                    atm_machine.do_request(task=2, money=money)\n",
    "\n",
    "            elif operation == \"Z\":\n",
    "                if language:\n",
    "                    print(\"기기 사용을 종료합니다.\")\n",
    "                else:\n",
    "                    print(\"The atm machine is turned off.\")\n",
    "                return\n"
   ]
  },
  {
   "cell_type": "code",
   "execution_count": 3,
   "id": "b2450778-f99c-4880-8fe4-15687d58b8dc",
   "metadata": {
    "colab": {
     "base_uri": "https://localhost:8080/"
    },
    "id": "b2450778-f99c-4880-8fe4-15687d58b8dc",
    "outputId": "cf9bc64a-09f1-47a3-977c-16507880a8db"
   },
   "outputs": [
    {
     "name": "stdin",
     "output_type": "stream",
     "text": [
      "Let's create a new atm \n",
      "Enter 0 or 1 to choose a language for instruction by atm: 0 for English, 1 for Korean \n",
      " 0\n"
     ]
    },
    {
     "name": "stdout",
     "output_type": "stream",
     "text": [
      "English language is chosen.\n",
      "-----------------------------------------------------------------------\n",
      "\n"
     ]
    },
    {
     "name": "stdin",
     "output_type": "stream",
     "text": [
      "Let's create a new card \n",
      "Enter two digits with ',' between: 1st for cardID and 2nd for pin. ex) 1, 2 \n",
      "  1, 2\n"
     ]
    },
    {
     "name": "stdout",
     "output_type": "stream",
     "text": [
      "-----------------------------------------------------------------------\n",
      "\n"
     ]
    },
    {
     "name": "stdin",
     "output_type": "stream",
     "text": [
      "Let's create a new account \n",
      "Enter two digits with ',' between: 1st for accountID and 2nd for balance. ex) 3, 4 \n",
      "  11, 22\n",
      "Let's create a new account \n",
      "Enter two digits with ',' between: 1st for accountID and 2nd for balance. ex) 3, 4 \n",
      "  33, 44\n",
      "Let's create a new account \n",
      "Enter two digits with ',' between: 1st for accountID and 2nd for balance. ex) 3, 4 \n",
      "  55, 66\n"
     ]
    },
    {
     "name": "stdout",
     "output_type": "stream",
     "text": [
      "-----------------------------------------------------------------------\n",
      "\n"
     ]
    },
    {
     "name": "stdin",
     "output_type": "stream",
     "text": [
      "Enter the capital alphabet to choose which operation to conduct \n",
      "{'Z': 'Finish', 'A': 'Insert card'} \n",
      " A\n"
     ]
    },
    {
     "name": "stdout",
     "output_type": "stream",
     "text": [
      "-----------------------------------------------------------------------\n",
      "\n",
      "A card is inserted to the machine\n",
      "-----------------------------------------------------------------------\n",
      "\n"
     ]
    },
    {
     "name": "stdin",
     "output_type": "stream",
     "text": [
      "Enter the capital alphabet to choose which operation to conduct \n",
      "{'Z': 'Finish', 'B': 'Eject card', 'C': 'Enter pin'} \n",
      " B\n"
     ]
    },
    {
     "name": "stdout",
     "output_type": "stream",
     "text": [
      "-----------------------------------------------------------------------\n",
      "\n",
      "A card is ejected from the machine.\n",
      "-----------------------------------------------------------------------\n",
      "\n"
     ]
    },
    {
     "name": "stdin",
     "output_type": "stream",
     "text": [
      "Let's create a new card \n",
      "Enter two digits with ',' between: 1st for cardID and 2nd for pin. ex) 1, 2 \n",
      "  3, 4\n"
     ]
    },
    {
     "name": "stdout",
     "output_type": "stream",
     "text": [
      "-----------------------------------------------------------------------\n",
      "\n"
     ]
    },
    {
     "name": "stdin",
     "output_type": "stream",
     "text": [
      "Let's create a new account \n",
      "Enter two digits with ',' between: 1st for accountID and 2nd for balance. ex) 3, 4 \n",
      "  11, 22\n",
      "Let's create a new account \n",
      "Enter two digits with ',' between: 1st for accountID and 2nd for balance. ex) 3, 4 \n",
      "  33, 44\n",
      "Let's create a new account \n",
      "Enter two digits with ',' between: 1st for accountID and 2nd for balance. ex) 3, 4 \n",
      "  55, 66\n"
     ]
    },
    {
     "name": "stdout",
     "output_type": "stream",
     "text": [
      "-----------------------------------------------------------------------\n",
      "\n"
     ]
    },
    {
     "name": "stdin",
     "output_type": "stream",
     "text": [
      "Enter the capital alphabet to choose which operation to conduct \n",
      "{'Z': 'Finish', 'A': 'Insert card'} \n",
      " A\n"
     ]
    },
    {
     "name": "stdout",
     "output_type": "stream",
     "text": [
      "-----------------------------------------------------------------------\n",
      "\n",
      "A card is inserted to the machine\n",
      "-----------------------------------------------------------------------\n",
      "\n"
     ]
    },
    {
     "name": "stdin",
     "output_type": "stream",
     "text": [
      "Enter the capital alphabet to choose which operation to conduct \n",
      "{'Z': 'Finish', 'B': 'Eject card', 'C': 'Enter pin'} \n",
      " C\n"
     ]
    },
    {
     "name": "stdout",
     "output_type": "stream",
     "text": [
      "-----------------------------------------------------------------------\n",
      "\n"
     ]
    },
    {
     "name": "stdin",
     "output_type": "stream",
     "text": [
      "Enter pin to access the accounts in card. \n",
      "Note that there are only 5 trials. \n",
      "After 5 trials, the card is automatically ejected and no longer useable. \n",
      " 5\n"
     ]
    },
    {
     "name": "stdout",
     "output_type": "stream",
     "text": [
      "Wrong password. Card is no more useable when having 5th errors. Current : 1th error(s).\n"
     ]
    },
    {
     "name": "stdin",
     "output_type": "stream",
     "text": [
      "Enter pin to access the accounts in card. \n",
      "Note that there are only 5 trials. \n",
      "After 5 trials, the card is automatically ejected and no longer useable. \n",
      " 6\n"
     ]
    },
    {
     "name": "stdout",
     "output_type": "stream",
     "text": [
      "Wrong password. Card is no more useable when having 5th errors. Current : 2th error(s).\n"
     ]
    },
    {
     "name": "stdin",
     "output_type": "stream",
     "text": [
      "Enter pin to access the accounts in card. \n",
      "Note that there are only 5 trials. \n",
      "After 5 trials, the card is automatically ejected and no longer useable. \n",
      " 7\n"
     ]
    },
    {
     "name": "stdout",
     "output_type": "stream",
     "text": [
      "Wrong password. Card is no more useable when having 5th errors. Current : 3th error(s).\n"
     ]
    },
    {
     "name": "stdin",
     "output_type": "stream",
     "text": [
      "Enter pin to access the accounts in card. \n",
      "Note that there are only 5 trials. \n",
      "After 5 trials, the card is automatically ejected and no longer useable. \n",
      " 8\n"
     ]
    },
    {
     "name": "stdout",
     "output_type": "stream",
     "text": [
      "Wrong password. Card is no more useable when having 5th errors. Current : 4th error(s).\n"
     ]
    },
    {
     "name": "stdin",
     "output_type": "stream",
     "text": [
      "Enter pin to access the accounts in card. \n",
      "Note that there are only 5 trials. \n",
      "After 5 trials, the card is automatically ejected and no longer useable. \n",
      " 9\n"
     ]
    },
    {
     "name": "stdout",
     "output_type": "stream",
     "text": [
      "Wrong password. Card is no more useable when having 5th errors. Current : 5th error(s).\n",
      "The card is ejected from the machine as the number of errors reaches 5. This card can no longer be used.\n",
      "A card is ejected from the machine.\n",
      "The card is no longer usable, so we return to the process of creating a new card.\n",
      "-----------------------------------------------------------------------\n",
      "\n",
      "-----------------------------------------------------------------------\n",
      "\n"
     ]
    },
    {
     "name": "stdin",
     "output_type": "stream",
     "text": [
      "Let's create a new card \n",
      "Enter two digits with ',' between: 1st for cardID and 2nd for pin. ex) 1, 2 \n",
      "  5, 6\n"
     ]
    },
    {
     "name": "stdout",
     "output_type": "stream",
     "text": [
      "-----------------------------------------------------------------------\n",
      "\n"
     ]
    },
    {
     "name": "stdin",
     "output_type": "stream",
     "text": [
      "Let's create a new account \n",
      "Enter two digits with ',' between: 1st for accountID and 2nd for balance. ex) 3, 4 \n",
      "  11, 22\n",
      "Let's create a new account \n",
      "Enter two digits with ',' between: 1st for accountID and 2nd for balance. ex) 3, 4 \n",
      "  33, 44\n",
      "Let's create a new account \n",
      "Enter two digits with ',' between: 1st for accountID and 2nd for balance. ex) 3, 4 \n",
      "  55, 66\n"
     ]
    },
    {
     "name": "stdout",
     "output_type": "stream",
     "text": [
      "-----------------------------------------------------------------------\n",
      "\n"
     ]
    },
    {
     "name": "stdin",
     "output_type": "stream",
     "text": [
      "Enter the capital alphabet to choose which operation to conduct \n",
      "{'Z': 'Finish', 'A': 'Insert card'} \n",
      " A\n"
     ]
    },
    {
     "name": "stdout",
     "output_type": "stream",
     "text": [
      "-----------------------------------------------------------------------\n",
      "\n",
      "A card is inserted to the machine\n",
      "-----------------------------------------------------------------------\n",
      "\n"
     ]
    },
    {
     "name": "stdin",
     "output_type": "stream",
     "text": [
      "Enter the capital alphabet to choose which operation to conduct \n",
      "{'Z': 'Finish', 'B': 'Eject card', 'C': 'Enter pin'} \n",
      " C\n"
     ]
    },
    {
     "name": "stdout",
     "output_type": "stream",
     "text": [
      "-----------------------------------------------------------------------\n",
      "\n"
     ]
    },
    {
     "name": "stdin",
     "output_type": "stream",
     "text": [
      "Enter pin to access the accounts in card. \n",
      "Note that there are only 5 trials. \n",
      "After 5 trials, the card is automatically ejected and no longer useable. \n",
      " 6\n"
     ]
    },
    {
     "name": "stdout",
     "output_type": "stream",
     "text": [
      "You have entered the correct password. You can now access your account on the card.\n",
      "-----------------------------------------------------------------------\n",
      "\n"
     ]
    },
    {
     "name": "stdin",
     "output_type": "stream",
     "text": [
      "Enter the capital alphabet to choose which operation to conduct \n",
      "{'Z': 'Finish', 'B': 'Eject card', 'D': 'Select account'} \n",
      " D\n"
     ]
    },
    {
     "name": "stdout",
     "output_type": "stream",
     "text": [
      "-----------------------------------------------------------------------\n",
      "\n"
     ]
    },
    {
     "name": "stdin",
     "output_type": "stream",
     "text": [
      "Enter the account index to query. \n",
      "The account index should be among [1, 2, 3]. \n",
      " 1\n"
     ]
    },
    {
     "name": "stdout",
     "output_type": "stream",
     "text": [
      "Selected the 1th account.\n",
      "-----------------------------------------------------------------------\n",
      "\n"
     ]
    },
    {
     "name": "stdin",
     "output_type": "stream",
     "text": [
      "Enter the capital alphabet to choose which operation to conduct \n",
      "{'Z': 'Finish', 'B': 'Eject card', 'D': 'Switch account', 'E': 'See balance', 'F': 'Deposit', 'G': 'Withdraw'} \n",
      " D\n"
     ]
    },
    {
     "name": "stdout",
     "output_type": "stream",
     "text": [
      "-----------------------------------------------------------------------\n",
      "\n"
     ]
    },
    {
     "name": "stdin",
     "output_type": "stream",
     "text": [
      "Enter the account index to query. \n",
      "The account index should be among [1, 2, 3]. \n",
      " 2\n"
     ]
    },
    {
     "name": "stdout",
     "output_type": "stream",
     "text": [
      "Switched to the 2th account.\n",
      "-----------------------------------------------------------------------\n",
      "\n"
     ]
    },
    {
     "name": "stdin",
     "output_type": "stream",
     "text": [
      "Enter the capital alphabet to choose which operation to conduct \n",
      "{'Z': 'Finish', 'B': 'Eject card', 'D': 'Switch account', 'E': 'See balance', 'F': 'Deposit', 'G': 'Withdraw'} \n",
      " E\n"
     ]
    },
    {
     "name": "stdout",
     "output_type": "stream",
     "text": [
      "-----------------------------------------------------------------------\n",
      "\n",
      "44 won is deposited in the 2th account.\n",
      "-----------------------------------------------------------------------\n",
      "\n"
     ]
    },
    {
     "name": "stdin",
     "output_type": "stream",
     "text": [
      "Enter the capital alphabet to choose which operation to conduct \n",
      "{'Z': 'Finish', 'B': 'Eject card', 'D': 'Switch account', 'E': 'See balance', 'F': 'Deposit', 'G': 'Withdraw'} \n",
      " F\n"
     ]
    },
    {
     "name": "stdout",
     "output_type": "stream",
     "text": [
      "-----------------------------------------------------------------------\n",
      "\n"
     ]
    },
    {
     "name": "stdin",
     "output_type": "stream",
     "text": [
      "Enter the amount of money to deposit or withdraw \n",
      " 100\n"
     ]
    },
    {
     "name": "stdout",
     "output_type": "stream",
     "text": [
      "100 won is added to the 2th account.\n",
      "The balance of the 2th account is 144.\n",
      "-----------------------------------------------------------------------\n",
      "\n"
     ]
    },
    {
     "name": "stdin",
     "output_type": "stream",
     "text": [
      "Enter the capital alphabet to choose which operation to conduct \n",
      "{'Z': 'Finish', 'B': 'Eject card', 'D': 'Switch account', 'E': 'See balance', 'F': 'Deposit', 'G': 'Withdraw'} \n",
      " G\n"
     ]
    },
    {
     "name": "stdout",
     "output_type": "stream",
     "text": [
      "-----------------------------------------------------------------------\n",
      "\n"
     ]
    },
    {
     "name": "stdin",
     "output_type": "stream",
     "text": [
      "Enter the amount of money to deposit or withdraw \n",
      " 1000\n"
     ]
    },
    {
     "name": "stdout",
     "output_type": "stream",
     "text": [
      "You cannot withdraw more than the amount in the account\n",
      "-----------------------------------------------------------------------\n",
      "\n"
     ]
    },
    {
     "name": "stdin",
     "output_type": "stream",
     "text": [
      "Enter the capital alphabet to choose which operation to conduct \n",
      "{'Z': 'Finish', 'B': 'Eject card', 'D': 'Switch account', 'E': 'See balance', 'F': 'Deposit', 'G': 'Withdraw'} \n",
      " G\n"
     ]
    },
    {
     "name": "stdout",
     "output_type": "stream",
     "text": [
      "-----------------------------------------------------------------------\n",
      "\n"
     ]
    },
    {
     "name": "stdin",
     "output_type": "stream",
     "text": [
      "Enter the amount of money to deposit or withdraw \n",
      " 10\n"
     ]
    },
    {
     "name": "stdout",
     "output_type": "stream",
     "text": [
      "10 won is withdrawed from the 2th account.\n",
      "The balance of the 2th account is 134.\n",
      "-----------------------------------------------------------------------\n",
      "\n"
     ]
    },
    {
     "name": "stdin",
     "output_type": "stream",
     "text": [
      "Enter the capital alphabet to choose which operation to conduct \n",
      "{'Z': 'Finish', 'B': 'Eject card', 'D': 'Switch account', 'E': 'See balance', 'F': 'Deposit', 'G': 'Withdraw'} \n",
      " Z\n"
     ]
    },
    {
     "name": "stdout",
     "output_type": "stream",
     "text": [
      "-----------------------------------------------------------------------\n",
      "\n",
      "The atm machine is turned off.\n"
     ]
    }
   ],
   "source": [
    "main(num_account=3)"
   ]
  },
  {
   "cell_type": "code",
   "execution_count": null,
   "id": "b47e75e0-77d7-44d1-9179-0336d9d8b0e4",
   "metadata": {},
   "outputs": [],
   "source": []
  }
 ],
 "metadata": {
  "colab": {
   "collapsed_sections": [],
   "name": "ATM_machine.ipynb",
   "provenance": []
  },
  "kernelspec": {
   "display_name": "dmcenv",
   "language": "python",
   "name": "dmcenv"
  },
  "language_info": {
   "codemirror_mode": {
    "name": "ipython",
    "version": 3
   },
   "file_extension": ".py",
   "mimetype": "text/x-python",
   "name": "python",
   "nbconvert_exporter": "python",
   "pygments_lexer": "ipython3",
   "version": "3.8.8"
  }
 },
 "nbformat": 4,
 "nbformat_minor": 5
}
